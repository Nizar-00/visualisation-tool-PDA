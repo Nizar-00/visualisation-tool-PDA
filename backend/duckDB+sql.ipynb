{
 "cells": [
  {
   "cell_type": "code",
   "execution_count": 1,
   "id": "7f8c7e73-1b3b-4258-9b69-ae39928453bb",
   "metadata": {},
   "outputs": [
    {
     "data": {
      "text/plain": [
       "<duckdb.duckdb.DuckDBPyConnection at 0x1b40b3d6030>"
      ]
     },
     "execution_count": 1,
     "metadata": {},
     "output_type": "execute_result"
    }
   ],
   "source": [
    "import pandas as pd\n",
    "import duckdb\n",
    "import matplotlib.pyplot as plt\n",
    "\n",
    "# Load CSV files into DataFrames\n",
    "adm_ref_entite = pd.read_csv('adm_ref_entite.csv')\n",
    "pe_prd_declarationpeche = pd.read_csv('pe_prd_declarationpeche.csv')\n",
    "pe_prd_sourceespdc = pd.read_csv('pe_prd_sourceespdc.csv')\n",
    "pm_ref_espece = pd.read_csv('pm_ref_espece.csv')\n",
    "\n",
    "# Initialize DuckDB in-memory connection\n",
    "con = duckdb.connect(database=':memory:')\n",
    "\n",
    "# Register DataFrames as tables\n",
    "con.register('adm_ref_entite', adm_ref_entite)\n",
    "con.register('pe_prd_declarationpeche', pe_prd_declarationpeche)\n",
    "con.register('pe_prd_sourceespdc', pe_prd_sourceespdc)\n",
    "con.register('pm_ref_espece', pm_ref_espece)\n"
   ]
  },
  {
   "cell_type": "code",
   "execution_count": 2,
   "id": "62b0e41f-c96b-4e2e-b8d0-ecd9b808f884",
   "metadata": {},
   "outputs": [
    {
     "name": "stdout",
     "output_type": "stream",
     "text": [
      "Filtre port activé : Aucun\n",
      "Filtres utilisés :\n",
      "- Entité : 14\n",
      "- Port : Aucun (ignoré)\n",
      "- Code PDA : Aucun (tous)\n",
      "- Période : du 2025-06-01 au 2025-07-20\n"
     ]
    }
   ],
   "source": [
    "# Filtres Utilisateur - Modifier manuellement\n",
    "start_date = '2025-06-01'       # Necessaire\n",
    "end_date = '2025-07-20'         # Necessaire\n",
    "selected_entity = '14'          # Necessaire\n",
    "selected_port = ''              # Optionel\n",
    "selected_pda_code = ''       # Optionel\n",
    "\n",
    "# Validation Port appartenant a une entite. S'il n'appartient pas, filtre port ignoré.\n",
    "if selected_port and not selected_port.startswith(selected_entity):\n",
    "    print(f\"Le port '{selected_port}' ne correspond pas à l'entité '{selected_entity}'. Filtre port ignoré.\")\n",
    "    selected_port = None\n",
    "else:\n",
    "    print(f\"Filtre port activé : {selected_port if selected_port else 'Aucun'}\")\n",
    "\n",
    "print(\"Filtres utilisés :\")\n",
    "print(f\"- Entité : {selected_entity}\")\n",
    "print(f\"- Port : {selected_port if selected_port else 'Aucun (ignoré)'}\")\n",
    "print(f\"- Code PDA : {selected_pda_code if selected_pda_code else 'Aucun (tous)'}\")\n",
    "print(f\"- Période : du {start_date} au {end_date}\")\n"
   ]
  },
  {
   "cell_type": "code",
   "execution_count": 3,
   "id": "08b04ecd-1385-4c67-9436-fa3d3c318bf4",
   "metadata": {},
   "outputs": [],
   "source": [
    "def use_case_1_pda_precis(start_date, end_date, selected_pda_code):\n",
    "    if not selected_pda_code:\n",
    "        print(\"Aucun PDA selectione.\")\n",
    "        return\n",
    "\n",
    "    print(\"Cas d'usage #1 : Nombre déclarations pour un PDA précis avec filtre période\")\n",
    "    query = f\"\"\"\n",
    "    SELECT COUNT(DISTINCT a.NUMEROVISA) AS total_declarations_distinct\n",
    "    FROM pe_prd_declarationpeche a\n",
    "    INNER JOIN pe_prd_sourceespdc b ON a.id = b.id_refdeclaration\n",
    "    INNER JOIN pm_ref_espece c ON c.id = b.id_refespece\n",
    "    WHERE a.NUMEROVISA LIKE '%{selected_pda_code}%'\n",
    "      AND CAST(a.DATE_DECLARATION AS DATE) BETWEEN DATE '{start_date}' AND DATE '{end_date}'\n",
    "    \"\"\"\n",
    "    df = con.execute(query).fetchdf()\n",
    "    print(df)"
   ]
  },
  {
   "cell_type": "code",
   "execution_count": 4,
   "id": "0505f055-272a-43ef-95b5-ed94f9e26224",
   "metadata": {},
   "outputs": [],
   "source": [
    "def use_case_2_ports_periode(start_date, end_date, selected_entity, selected_port, selected_pda_code):\n",
    "    if selected_port or selected_pda_code:\n",
    "        print(\"Filtres pda et port actifs, skipping use_case_2_ports_periode.\")\n",
    "        return\n",
    "\n",
    "    print(\"Cas d'usage #2 : Nombre déclarations dans différents ports avec filtre période\")\n",
    "    query = f\"\"\"\n",
    "    SELECT e.ENTITE_CODE AS ENTITE_CODE,\n",
    "           e.ENTITE_NOM AS ENTITE_NOM,\n",
    "           COUNT(DISTINCT CASE\n",
    "               WHEN regexp_matches(SUBSTR(a.NUMEROVISA, POSITION('PDA' IN a.NUMEROVISA) + 3, 3), '^[0-9]+$')\n",
    "               THEN a.id END) AS NOMBRE_DECLARATIONS_NEW_PDA\n",
    "    FROM pe_prd_declarationpeche a\n",
    "    INNER JOIN adm_ref_entite e ON e.ENTITE_CODE = a.ENTITE_CODE\n",
    "    WHERE a.NUMEROVISA LIKE '%PDA%'\n",
    "      AND POSITION('PDA' IN a.NUMEROVISA) > 0\n",
    "      AND CAST(a.DATE_DECLARATION AS DATE) BETWEEN DATE '{start_date}' AND DATE '{end_date}'\n",
    "    GROUP BY e.ENTITE_CODE, e.ENTITE_NOM\n",
    "    ORDER BY e.ENTITE_CODE\n",
    "    \"\"\"\n",
    "    df = con.execute(query).fetchdf()\n",
    "    print(df)\n",
    "    df.plot(kind='bar', x='ENTITE_NOM', y='NOMBRE_DECLARATIONS_NEW_PDA', legend=False, title='Nombre déclarations par port')\n",
    "    plt.show()\n"
   ]
  },
  {
   "cell_type": "code",
   "execution_count": 5,
   "id": "5885267d-6a4b-45f5-a568-6278271bad50",
   "metadata": {},
   "outputs": [],
   "source": [
    "def use_case_3_declarations_par_mois(start_date, end_date, selected_entity):\n",
    "    print(\"Cas d'usage #3 : Nombre déclarations par mois avec filtre période\")\n",
    "    query = f\"\"\"\n",
    "    SELECT e.ENTITE_CODE AS ENTITE_CODE,\n",
    "           e.ENTITE_NOM AS ENTITE_NOM,\n",
    "           date_part('month', CAST(a.DATE_DECLARATION AS DATE)) AS MOIS,\n",
    "           COUNT(DISTINCT CASE\n",
    "               WHEN regexp_matches(SUBSTR(a.NUMEROVISA, POSITION('PDA' IN a.NUMEROVISA) + 3, 3), '^[0-9]+$')\n",
    "               THEN a.id END) AS NOMBRE_DECLARATIONS_NEW_PDA\n",
    "    FROM pe_prd_declarationpeche a\n",
    "    INNER JOIN adm_ref_entite e ON e.ENTITE_CODE = a.ENTITE_CODE\n",
    "    WHERE a.NUMEROVISA LIKE '%PDA%'\n",
    "      AND POSITION('PDA' IN a.NUMEROVISA) > 0\n",
    "      AND CAST(a.DATE_DECLARATION AS DATE) BETWEEN DATE '{start_date}' AND DATE '{end_date}'\n",
    "      AND e.ENTITE_CODE LIKE '{selected_entity}%'\n",
    "    GROUP BY e.ENTITE_CODE, e.ENTITE_NOM, MOIS\n",
    "    ORDER BY e.ENTITE_CODE, MOIS\n",
    "    \"\"\"\n",
    "    df = con.execute(query).fetchdf()\n",
    "    print(df)\n",
    "    df.pivot(index='MOIS', columns='ENTITE_NOM', values='NOMBRE_DECLARATIONS_NEW_PDA').plot(kind='bar', title='Déclarations par mois')\n",
    "    plt.show()\n"
   ]
  },
  {
   "cell_type": "code",
   "execution_count": 6,
   "id": "ca170bb9-acf5-42b9-97ca-9f07b9a2fcc2",
   "metadata": {},
   "outputs": [],
   "source": [
    "def use_case_5_port_precis(start_date, end_date, selected_port):\n",
    "    if not selected_port:\n",
    "        print(\"Aucun port selectione\")\n",
    "        return\n",
    "\n",
    "    print(\"Cas d'usage #5 : Nombre déclarations dans un port précis dans une période précise\")\n",
    "    query = f\"\"\"\n",
    "    SELECT e.ENTITE_CODE,\n",
    "           e.ENTITE_NOM,\n",
    "           COUNT(DISTINCT CASE\n",
    "               WHEN regexp_matches(SUBSTR(a.NUMEROVISA, POSITION('PDA' IN a.NUMEROVISA) + 3, 3), '^[0-9]+$')\n",
    "               THEN a.id END) AS NOMBRE_DECLARATIONS_NEW_PDA\n",
    "    FROM pe_prd_declarationpeche a\n",
    "    INNER JOIN adm_ref_entite e ON e.ENTITE_CODE = a.ENTITE_CODE\n",
    "    WHERE a.NUMEROVISA LIKE '%PDA%'\n",
    "      AND POSITION('PDA' IN a.NUMEROVISA) > 0\n",
    "      AND CAST(a.DATE_DECLARATION AS DATE) BETWEEN DATE '{start_date}' AND DATE '{end_date}'\n",
    "      AND e.ENTITE_CODE = '{selected_port}'\n",
    "    GROUP BY e.ENTITE_CODE, e.ENTITE_NOM\n",
    "    ORDER BY e.ENTITE_CODE\n",
    "    \"\"\"\n",
    "    df = con.execute(query).fetchdf()\n",
    "    print(df)\n",
    "\n",
    "    if df.empty:\n",
    "        print(\"Aucun résultat trouvé pour ce port et cette période.\")\n",
    "        return\n",
    "\n",
    "    df.plot(kind='bar', x='ENTITE_NOM', y='NOMBRE_DECLARATIONS_NEW_PDA', legend=False, title='Nombre déclarations port précis')\n",
    "    plt.show()\n"
   ]
  },
  {
   "cell_type": "code",
   "execution_count": 7,
   "id": "25324efe-a0de-49e9-b444-52da161340f7",
   "metadata": {},
   "outputs": [],
   "source": [
    "def use_case_7_entite_mere(start_date, end_date, selected_entity):\n",
    "    print(\"Cas d'usage #7 : Nombre déclarations dans entités mères avec filtre période\")\n",
    "    query = f\"\"\"\n",
    "    SELECT entite_mere.ENTITE_CODE AS ENTITE_MERE_CODE,\n",
    "           entite_mere.ENTITE_NOM AS ENTITE_MERE_NOM,\n",
    "           COUNT(DISTINCT CASE\n",
    "               WHEN regexp_matches(SUBSTR(a.NUMEROVISA, POSITION('PDA' IN a.NUMEROVISA) + 3, 3), '^[0-9]+$')\n",
    "               THEN a.id END) AS NOMBRE_DECLARATIONS_NEW_PDA\n",
    "    FROM pe_prd_declarationpeche a\n",
    "    INNER JOIN adm_ref_entite e ON e.ENTITE_CODE = a.ENTITE_CODE\n",
    "    INNER JOIN adm_ref_entite entite_mere ON entite_mere.ENTITE_CODE = regexp_extract(e.ENTITE_CODE, '^(\\\\d+)', 1)\n",
    "    WHERE CAST(a.DATE_DECLARATION AS DATE) BETWEEN DATE '{start_date}' AND DATE '{end_date}'\n",
    "      AND e.ENTITE_CODE LIKE '{selected_entity}%'\n",
    "    GROUP BY entite_mere.ENTITE_CODE, entite_mere.ENTITE_NOM\n",
    "    ORDER BY entite_mere.ENTITE_CODE\n",
    "    \"\"\"\n",
    "    df = con.execute(query).fetchdf()\n",
    "    print(df)\n",
    "    if df.empty or df['NOMBRE_DECLARATIONS_NEW_PDA'].sum() == 0:\n",
    "        print(\"Aucune déclaration trouvée pour les entités mères dans cette période.\")\n",
    "        return\n",
    "    df.plot(kind='bar', x='ENTITE_MERE_NOM', y='NOMBRE_DECLARATIONS_NEW_PDA', legend=False, title='Nombre déclarations entité mère')\n",
    "    plt.show()\n"
   ]
  },
  {
   "cell_type": "code",
   "execution_count": 8,
   "id": "41b1dceb-4170-4a6c-8f02-caa4605a05d6",
   "metadata": {},
   "outputs": [
    {
     "name": "stdout",
     "output_type": "stream",
     "text": [
      "Vue complète de l'entité : ports, mois, entité mère\n",
      "Cas d'usage #2 : Nombre déclarations dans différents ports avec filtre période\n",
      "   ENTITE_CODE      ENTITE_NOM  NOMBRE_DECLARATIONS_NEW_PDA\n",
      "0           10  ENTITE_MERE_10                            7\n",
      "1         10/1    PORT_1_OF_10                           10\n",
      "2         10/2    PORT_2_OF_10                            5\n",
      "3         10/3    PORT_3_OF_10                            4\n",
      "4           11  ENTITE_MERE_11                            7\n",
      "5         11/1    PORT_1_OF_11                            8\n",
      "6         11/2    PORT_2_OF_11                            4\n",
      "7         11/3    PORT_3_OF_11                            5\n",
      "8           12  ENTITE_MERE_12                            5\n",
      "9         12/1    PORT_1_OF_12                            7\n",
      "10        12/2    PORT_2_OF_12                            3\n",
      "11        12/3    PORT_3_OF_12                            6\n",
      "12          13  ENTITE_MERE_13                            2\n",
      "13        13/1    PORT_1_OF_13                            6\n",
      "14        13/2    PORT_2_OF_13                            7\n",
      "15          14  ENTITE_MERE_14                            4\n",
      "16        14/1    PORT_1_OF_14                            9\n",
      "17        14/2    PORT_2_OF_14                            3\n"
     ]
    },
    {
     "data": {
      "image/png": "[encoded data removed]",
      "text/plain": [
       "<Figure size 640x480 with 1 Axes>"
      ]
     },
     "metadata": {},
     "output_type": "display_data"
    },
    {
     "name": "stdout",
     "output_type": "stream",
     "text": [
      "Cas d'usage #3 : Nombre déclarations par mois avec filtre période\n",
      "  ENTITE_CODE      ENTITE_NOM  MOIS  NOMBRE_DECLARATIONS_NEW_PDA\n",
      "0          14  ENTITE_MERE_14     6                            3\n",
      "1          14  ENTITE_MERE_14     7                            1\n",
      "2        14/1    PORT_1_OF_14     6                            4\n",
      "3        14/1    PORT_1_OF_14     7                            5\n",
      "4        14/2    PORT_2_OF_14     6                            1\n",
      "5        14/2    PORT_2_OF_14     7                            2\n"
     ]
    },
    {
     "data": {
      "image/png": "[encoded data removed]",
      "text/plain": [
       "<Figure size 640x480 with 1 Axes>"
      ]
     },
     "metadata": {},
     "output_type": "display_data"
    },
    {
     "name": "stdout",
     "output_type": "stream",
     "text": [
      "Cas d'usage #7 : Nombre déclarations dans entités mères avec filtre période\n",
      "  ENTITE_MERE_CODE ENTITE_MERE_NOM  NOMBRE_DECLARATIONS_NEW_PDA\n",
      "0               14  ENTITE_MERE_14                           16\n"
     ]
    },
    {
     "data": {
      "image/png": "[encoded data removed]",
      "text/plain": [
       "<Figure size 640x480 with 1 Axes>"
      ]
     },
     "metadata": {},
     "output_type": "display_data"
    }
   ],
   "source": [
    "# Cas d'exécution basé sur les filtres\n",
    "if selected_pda_code:\n",
    "    # Cas #1 : PDA spécifique\n",
    "    use_case_1_pda_precis(start_date, end_date, selected_pda_code)\n",
    "\n",
    "elif selected_port:\n",
    "    # Cas #5 : Port spécifique\n",
    "    use_case_5_port_precis(start_date, end_date, selected_port)\n",
    "\n",
    "elif selected_entity:\n",
    "    # Cas #2, #3, #7 Analyse globale entité (aucun port ni PDA précisé)\n",
    "    print(\"Vue complète de l'entité : ports, mois, entité mère\")\n",
    "    use_case_2_ports_periode(start_date, end_date, selected_entity, selected_port, selected_pda_code)\n",
    "    use_case_3_declarations_par_mois(start_date, end_date, selected_entity)\n",
    "    use_case_7_entite_mere(start_date, end_date, selected_entity)\n",
    "\n",
    "else:\n",
    "    # Aucun filtre essentiel\n",
    "    print(\"L'entité est obligatoire. Veuillez sélectionner une entité.\")"
   ]
  }
 ],
 "metadata": {
  "kernelspec": {
   "display_name": "Python 3 (ipykernel)",
   "language": "python",
   "name": "python3"
  },
  "language_info": {
   "codemirror_mode": {
    "name": "ipython",
    "version": 3
   },
   "file_extension": ".py",
   "mimetype": "text/x-python",
   "name": "python",
   "nbconvert_exporter": "python",
   "pygments_lexer": "ipython3",
   "version": "3.13.5"
  }
 },
 "nbformat": 4,
 "nbformat_minor": 5
}
