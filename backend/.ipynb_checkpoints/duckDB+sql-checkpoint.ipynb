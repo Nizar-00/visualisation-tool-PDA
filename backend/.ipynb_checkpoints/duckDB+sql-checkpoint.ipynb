{
 "cells": [
  {
   "cell_type": "code",
   "execution_count": null,
   "id": "3adc352b-88e7-42f6-9f33-3fad1ad920eb",
   "metadata": {},
   "outputs": [],
   "source": [
    "import pandas as pd\n",
    "\n",
    "adm_ref_entite = pd.read_csv('adm_ref_entite.csv')\n",
    "pe_prd_declarationpeche = pd.read_csv('pe_prd_declarationpeche.csv')"
   ]
  },
  {
   "cell_type": "code",
   "execution_count": 2,
   "id": "264d6f29-1e11-4ae4-a817-ec0b28108781",
   "metadata": {},
   "outputs": [
    {
     "data": {
      "text/plain": [
       "<duckdb.duckdb.DuckDBPyConnection at 0x2649b107730>"
      ]
     },
     "execution_count": 2,
     "metadata": {},
     "output_type": "execute_result"
    }
   ],
   "source": [
    "import duckdb\n",
    "con = duckdb.connect(database=':memory:')\n",
    "\n",
    "con.register('adm_ref_entite', adm_ref_entite)\n",
    "con.register('pe_prd_declarationpeche', pe_prd_declarationpeche)"
   ]
  },
  {
   "cell_type": "code",
   "execution_count": 3,
   "id": "27c37afe-f3da-488e-8946-e4ef63ddb3a7",
   "metadata": {},
   "outputs": [
    {
     "name": "stdout",
     "output_type": "stream",
     "text": [
      "   id ENTITE_CODE      ENTITE_NOM\n",
      "0   1          10  ENTITE_MERE_10\n",
      "1   2        10/1    PORT_1_OF_10\n",
      "2   3        10/3    PORT_3_OF_10\n",
      "3   4          11  ENTITE_MERE_11\n",
      "4   5        11/2    PORT_2_OF_11\n"
     ]
    }
   ],
   "source": [
    "result = con.execute(\"SELECT * FROM adm_ref_entite LIMIT 5\").fetchdf()\n",
    "print(result)\n",
    "# test that resturns first 5 rows of adm_ref_entite"
   ]
  },
  {
   "cell_type": "code",
   "execution_count": 4,
   "id": "98a1442f-a81d-475b-91e5-cba10323765e",
   "metadata": {},
   "outputs": [
    {
     "name": "stdout",
     "output_type": "stream",
     "text": [
      "Empty DataFrame\n",
      "Columns: [NUMEROVISA, DATE_DECLARATION]\n",
      "Index: []\n"
     ]
    }
   ],
   "source": [
    "# Debug check for matching rows by date\n",
    "df_debug = con.execute(\"\"\"\n",
    "SELECT NUMEROVISA, DATE_DECLARATION \n",
    "FROM pe_prd_declarationpeche\n",
    "WHERE CAST(DATE_DECLARATION AS DATE) BETWEEN DATE '2025-02-01' AND DATE '2025-02-17'\n",
    "LIMIT 10\n",
    "\"\"\").fetchdf()\n",
    "print(df_debug)"
   ]
  },
  {
   "cell_type": "code",
   "execution_count": 5,
   "id": "7aa9792d-5d0f-41d5-ac18-a0c4a708a57e",
   "metadata": {},
   "outputs": [],
   "source": [
    "def get_declarations_by_pda(pda_pattern, start_date, end_date):\n",
    "    query = f\"\"\"\n",
    "    SELECT COUNT(DISTINCT NUMEROVISA) AS total_declarations_distinct\n",
    "    FROM pe_prd_declarationpeche\n",
    "    WHERE NUMEROVISA LIKE '{pda_pattern}'\n",
    "      AND CAST(DATE_DECLARATION AS DATE) BETWEEN DATE '{start_date}' AND DATE '{end_date}'\n",
    "    \"\"\"\n",
    "    df = con.execute(query).fetchdf()\n",
    "    return df"
   ]
  },
  {
   "cell_type": "code",
   "execution_count": 6,
   "id": "8817ac3c-40f3-4c87-a239-ada612a57665",
   "metadata": {},
   "outputs": [
    {
     "name": "stdout",
     "output_type": "stream",
     "text": [
      "   total_declarations_distinct\n",
      "0                            0\n"
     ]
    }
   ],
   "source": [
    "df_result = get_declarations_by_pda('%PDA297%', '2025-02-01', '2025-02-17')\n",
    "print(df_result)"
   ]
  },
  {
   "cell_type": "code",
   "execution_count": 7,
   "id": "9938af71-96ac-483d-bab9-2ee5b6bb7649",
   "metadata": {},
   "outputs": [
    {
     "data": {
      "text/html": [
       "<div>\n",
       "<style scoped>\n",
       "    .dataframe tbody tr th:only-of-type {\n",
       "        vertical-align: middle;\n",
       "    }\n",
       "\n",
       "    .dataframe tbody tr th {\n",
       "        vertical-align: top;\n",
       "    }\n",
       "\n",
       "    .dataframe thead th {\n",
       "        text-align: right;\n",
       "    }\n",
       "</style>\n",
       "<table border=\"1\" class=\"dataframe\">\n",
       "  <thead>\n",
       "    <tr style=\"text-align: right;\">\n",
       "      <th></th>\n",
       "      <th>NUMEROVISA</th>\n",
       "    </tr>\n",
       "  </thead>\n",
       "  <tbody>\n",
       "    <tr>\n",
       "      <th>0</th>\n",
       "      <td>12/4-PDA2970907</td>\n",
       "    </tr>\n",
       "    <tr>\n",
       "      <th>1</th>\n",
       "      <td>10-PDA2972806</td>\n",
       "    </tr>\n",
       "    <tr>\n",
       "      <th>2</th>\n",
       "      <td>11-PDA2971007</td>\n",
       "    </tr>\n",
       "    <tr>\n",
       "      <th>3</th>\n",
       "      <td>10/1-PDA2973006</td>\n",
       "    </tr>\n",
       "    <tr>\n",
       "      <th>4</th>\n",
       "      <td>12-PDA2971707</td>\n",
       "    </tr>\n",
       "    <tr>\n",
       "      <th>5</th>\n",
       "      <td>12-PDA2970507</td>\n",
       "    </tr>\n",
       "    <tr>\n",
       "      <th>6</th>\n",
       "      <td>11-PDA2971707</td>\n",
       "    </tr>\n",
       "    <tr>\n",
       "      <th>7</th>\n",
       "      <td>12-PDA2972606</td>\n",
       "    </tr>\n",
       "    <tr>\n",
       "      <th>8</th>\n",
       "      <td>11-PDA2972606</td>\n",
       "    </tr>\n",
       "    <tr>\n",
       "      <th>9</th>\n",
       "      <td>12/4-PDA2972006</td>\n",
       "    </tr>\n",
       "    <tr>\n",
       "      <th>10</th>\n",
       "      <td>12-PDA2971307</td>\n",
       "    </tr>\n",
       "    <tr>\n",
       "      <th>11</th>\n",
       "      <td>12/4-PDA2970807</td>\n",
       "    </tr>\n",
       "    <tr>\n",
       "      <th>12</th>\n",
       "      <td>12/4-PDA2971307</td>\n",
       "    </tr>\n",
       "    <tr>\n",
       "      <th>13</th>\n",
       "      <td>12/4-PDA2972606</td>\n",
       "    </tr>\n",
       "    <tr>\n",
       "      <th>14</th>\n",
       "      <td>11/2-PDA2972406</td>\n",
       "    </tr>\n",
       "    <tr>\n",
       "      <th>15</th>\n",
       "      <td>10/3-PDA2972906</td>\n",
       "    </tr>\n",
       "    <tr>\n",
       "      <th>16</th>\n",
       "      <td>11-PDA2971407</td>\n",
       "    </tr>\n",
       "    <tr>\n",
       "      <th>17</th>\n",
       "      <td>12/4-PDA2970107</td>\n",
       "    </tr>\n",
       "  </tbody>\n",
       "</table>\n",
       "</div>"
      ],
      "text/plain": [
       "         NUMEROVISA\n",
       "0   12/4-PDA2970907\n",
       "1     10-PDA2972806\n",
       "2     11-PDA2971007\n",
       "3   10/1-PDA2973006\n",
       "4     12-PDA2971707\n",
       "5     12-PDA2970507\n",
       "6     11-PDA2971707\n",
       "7     12-PDA2972606\n",
       "8     11-PDA2972606\n",
       "9   12/4-PDA2972006\n",
       "10    12-PDA2971307\n",
       "11  12/4-PDA2970807\n",
       "12  12/4-PDA2971307\n",
       "13  12/4-PDA2972606\n",
       "14  11/2-PDA2972406\n",
       "15  10/3-PDA2972906\n",
       "16    11-PDA2971407\n",
       "17  12/4-PDA2970107"
      ]
     },
     "execution_count": 7,
     "metadata": {},
     "output_type": "execute_result"
    }
   ],
   "source": [
    "con.execute(\"SELECT DISTINCT NUMEROVISA FROM pe_prd_declarationpeche WHERE NUMEROVISA LIKE '%PDA297%'\").df()"
   ]
  },
  {
   "cell_type": "code",
   "execution_count": 8,
   "id": "983af360-cb69-4386-b7f0-208a60939746",
   "metadata": {},
   "outputs": [
    {
     "name": "stdout",
     "output_type": "stream",
     "text": [
      "        NUMEROVISA     DATE_DECLARATION\n",
      "0  12/4-PDA2972006  2025-06-20 19:18:56\n",
      "1  11/2-PDA2972406  2025-06-24 19:18:56\n",
      "2  11/2-PDA2972406  2025-06-24 19:18:56\n",
      "3    12-PDA2972606  2025-06-26 19:18:56\n",
      "4  12/4-PDA2972606  2025-06-26 19:18:56\n",
      "5    11-PDA2972606  2025-06-26 19:18:56\n",
      "6    10-PDA2972806  2025-06-28 19:18:56\n",
      "7  10/3-PDA2972906  2025-06-29 19:18:56\n",
      "8  10/1-PDA2973006  2025-06-30 19:18:56\n",
      "9  10/1-PDA2973006  2025-06-30 19:18:56\n"
     ]
    }
   ],
   "source": [
    "df = con.execute(\"\"\"\n",
    "SELECT NUMEROVISA, DATE_DECLARATION\n",
    "FROM pe_prd_declarationpeche\n",
    "WHERE NUMEROVISA LIKE '%PDA297%'\n",
    "  AND CAST(DATE_DECLARATION AS DATE) BETWEEN DATE '2025-06-01' AND DATE '2025-07-31'\n",
    "ORDER BY DATE_DECLARATION\n",
    "LIMIT 10\n",
    "\"\"\").df()\n",
    "\n",
    "print(df)\n"
   ]
  },
  {
   "cell_type": "code",
   "execution_count": 9,
   "id": "81ce8623-7249-42b0-8d43-cee1aff69f84",
   "metadata": {},
   "outputs": [
    {
     "name": "stdout",
     "output_type": "stream",
     "text": [
      "        NUMEROVISA     DATE_DECLARATION\n",
      "0  12/4-PDA2972006  2025-06-20 19:18:56\n",
      "1  11/2-PDA2972406  2025-06-24 19:18:56\n",
      "2  11/2-PDA2972406  2025-06-24 19:18:56\n",
      "3    12-PDA2972606  2025-06-26 19:18:56\n",
      "4  12/4-PDA2972606  2025-06-26 19:18:56\n",
      "5    11-PDA2972606  2025-06-26 19:18:56\n",
      "6    10-PDA2972806  2025-06-28 19:18:56\n",
      "7  10/3-PDA2972906  2025-06-29 19:18:56\n",
      "8  10/1-PDA2973006  2025-06-30 19:18:56\n",
      "9  10/1-PDA2973006  2025-06-30 19:18:56\n"
     ]
    }
   ],
   "source": [
    "def get_declarations(pda_pattern, start_date, end_date, limit=10):\n",
    "    query = f\"\"\"\n",
    "    SELECT NUMEROVISA, DATE_DECLARATION\n",
    "    FROM pe_prd_declarationpeche\n",
    "    WHERE NUMEROVISA LIKE '{pda_pattern}'\n",
    "      AND DATE_DECLARATION BETWEEN TIMESTAMP '{start_date} 00:00:00' AND TIMESTAMP '{end_date} 23:59:59'\n",
    "    ORDER BY DATE_DECLARATION\n",
    "    LIMIT {limit}\n",
    "    \"\"\"\n",
    "    return con.execute(query).fetchdf()\n",
    "    df = get_declarations('%PDA297%', '2025-06-01', '2025-07-31', limit=15)\n",
    "print(df)\n",
    "\n"
   ]
  },
  {
   "cell_type": "code",
   "execution_count": 10,
   "id": "44d947ee-f8d1-43df-b75f-80ce0efaff9b",
   "metadata": {},
   "outputs": [
    {
     "data": {
      "image/png": "[encoded data removed]",
      "text/plain": [
       "<Figure size 640x480 with 1 Axes>"
      ]
     },
     "metadata": {},
     "output_type": "display_data"
    }
   ],
   "source": [
    "import matplotlib.pyplot as plt\n",
    "\n",
    "df['DATE_ONLY'] = pd.to_datetime(df['DATE_DECLARATION']).dt.date\n",
    "counts = df.groupby('DATE_ONLY').size()\n",
    "\n",
    "plt.bar(counts.index, counts)\n",
    "plt.xticks(rotation=45)\n",
    "plt.xlabel('Date')\n",
    "plt.ylabel('Number of Declarations')\n",
    "plt.title('Declarations per Day')\n",
    "plt.show()\n"
   ]
  },
  {
   "cell_type": "code",
   "execution_count": null,
   "id": "588efb41-461c-47a7-a87d-30fdf66a13ff",
   "metadata": {},
   "outputs": [],
   "source": []
  }
 ],
 "metadata": {
  "kernelspec": {
   "display_name": "Python 3 (ipykernel)",
   "language": "python",
   "name": "python3"
  },
  "language_info": {
   "codemirror_mode": {
    "name": "ipython",
    "version": 3
   },
   "file_extension": ".py",
   "mimetype": "text/x-python",
   "name": "python",
   "nbconvert_exporter": "python",
   "pygments_lexer": "ipython3",
   "version": "3.13.5"
  }
 },
 "nbformat": 4,
 "nbformat_minor": 5
}
